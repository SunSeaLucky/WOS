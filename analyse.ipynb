{
 "cells": [
  {
   "cell_type": "code",
   "execution_count": 1,
   "metadata": {},
   "outputs": [],
   "source": [
    "import pandas as pd\n",
    "import re\n",
    "\n",
    "origin = pd.read_csv('Res/wos.csv')"
   ]
  },
  {
   "cell_type": "code",
   "execution_count": 4,
   "metadata": {},
   "outputs": [
    {
     "data": {
      "text/plain": [
       "array(['Unnamed: 0', 'Publication Type', 'Authors', 'Book Authors',\n",
       "       'Book Editors', 'Book Group Authors', 'Author Full Names',\n",
       "       'Book Author Full Names', 'Group Authors', 'Article Title',\n",
       "       'Source Title', 'Book Series Title', 'Book Series Subtitle',\n",
       "       'Language', 'Document Type', 'Conference Title', 'Conference Date',\n",
       "       'Conference Location', 'Conference Sponsor', 'Conference Host',\n",
       "       'Author Keywords', 'Keywords Plus', 'Abstract', 'Addresses',\n",
       "       'Affiliations', 'Reprint Addresses', 'Email Addresses',\n",
       "       'Researcher Ids', 'ORCIDs', 'Funding Orgs',\n",
       "       'Funding Name Preferred', 'Funding Text', 'Cited References',\n",
       "       'Cited Reference Count', 'Times Cited, WoS Core',\n",
       "       'Times Cited, All Databases', '180 Day Usage Count',\n",
       "       'Since 2013 Usage Count', 'Publisher', 'Publisher City',\n",
       "       'Publisher Address', 'ISSN', 'eISSN', 'ISBN',\n",
       "       'Journal Abbreviation', 'Journal ISO Abbreviation',\n",
       "       'Publication Date', 'Publication Year', 'Volume', 'Issue',\n",
       "       'Part Number', 'Supplement', 'Special Issue', 'Meeting Abstract',\n",
       "       'Start Page', 'End Page', 'Article Number', 'DOI', 'DOI Link',\n",
       "       'Book DOI', 'Early Access Date', 'Number of Pages',\n",
       "       'WoS Categories', 'Web of Science Index', 'Research Areas',\n",
       "       'IDS Number', 'Pubmed Id', 'Open Access Designations',\n",
       "       'Highly Cited Status', 'Hot Paper Status', 'Date of Export',\n",
       "       'UT (Unique WOS ID)', 'Web of Science Record'], dtype=object)"
      ]
     },
     "execution_count": 4,
     "metadata": {},
     "output_type": "execute_result"
    }
   ],
   "source": [
    "origin.columns.values"
   ]
  },
  {
   "cell_type": "code",
   "execution_count": null,
   "metadata": {},
   "outputs": [],
   "source": []
  }
 ],
 "metadata": {
  "kernelspec": {
   "display_name": "Python 3",
   "language": "python",
   "name": "python3"
  },
  "language_info": {
   "codemirror_mode": {
    "name": "ipython",
    "version": 3
   },
   "file_extension": ".py",
   "mimetype": "text/x-python",
   "name": "python",
   "nbconvert_exporter": "python",
   "pygments_lexer": "ipython3",
   "version": "3.10.5"
  }
 },
 "nbformat": 4,
 "nbformat_minor": 2
}
